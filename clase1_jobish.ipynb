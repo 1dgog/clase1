{
  "nbformat": 4,
  "nbformat_minor": 0,
  "metadata": {
    "colab": {
      "name": "clase1_jobish.ipynb",
      "provenance": [],
      "authorship_tag": "ABX9TyM7TlFlSAaeGwzOqOo+l/0u",
      "include_colab_link": true
    },
    "kernelspec": {
      "name": "python3",
      "display_name": "Python 3"
    },
    "language_info": {
      "name": "python"
    }
  },
  "cells": [
    {
      "cell_type": "markdown",
      "metadata": {
        "id": "view-in-github",
        "colab_type": "text"
      },
      "source": [
        "<a href=\"https://colab.research.google.com/github/1dgog/clase1/blob/Testing_Branch_ja/clase1_jobish.ipynb\" target=\"_parent\"><img src=\"https://colab.research.google.com/assets/colab-badge.svg\" alt=\"Open In Colab\"/></a>"
      ]
    },
    {
      "cell_type": "code",
      "execution_count": null,
      "metadata": {
        "id": "MPegH4J7Ja3l",
        "outputId": "079ebf15-3c02-4105-9d65-0cff02af67a9",
        "colab": {
          "base_uri": "https://localhost:8080/"
        }
      },
      "outputs": [
        {
          "output_type": "stream",
          "name": "stdout",
          "text": [
            "Primer mensaje\n"
          ]
        }
      ],
      "source": [
        "print('Primer mensaje')"
      ]
    },
    {
      "cell_type": "code",
      "source": [
        "print('Estoy modificando en el branch')"
      ],
      "metadata": {
        "id": "2HPGuduuLjvb",
        "outputId": "4caf59d3-b71c-47f1-cf7f-26d3e2090ac3",
        "colab": {
          "base_uri": "https://localhost:8080/"
        }
      },
      "execution_count": 3,
      "outputs": [
        {
          "output_type": "stream",
          "name": "stdout",
          "text": [
            "Estoy modificando en el branch\n"
          ]
        }
      ]
    }
  ]
}